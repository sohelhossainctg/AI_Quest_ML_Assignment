{
 "cells": [
  {
   "cell_type": "markdown",
   "id": "d2aa4f48",
   "metadata": {},
   "source": [
    "# 1. Take values of the length & breadth of a rectangle from user input and check if it is square or not."
   ]
  },
  {
   "cell_type": "code",
   "execution_count": 36,
   "id": "5c43ff21",
   "metadata": {},
   "outputs": [
    {
     "name": "stdout",
     "output_type": "stream",
     "text": [
      "Put the length of your Rectangle: 60\n",
      "Put the breadth of your rectangle: 30\n",
      "The Rectangle is NOT a square\n"
     ]
    }
   ],
   "source": [
    "length = int(input(\"Put the length of your Rectangle: \"))\n",
    "breadth = int(input(\"Put the breadth of your rectangle: \"))\n",
    "if length == breadth:\n",
    "    print(\"The Rectangle is a square\")\n",
    "else:\n",
    "    print(\"The Rectangle is NOT a square\")"
   ]
  },
  {
   "cell_type": "markdown",
   "id": "eb48237d",
   "metadata": {},
   "source": [
    "# 2. Take three integer values from the user and print the greatest among them."
   ]
  },
  {
   "cell_type": "code",
   "execution_count": 37,
   "id": "cb6c606b",
   "metadata": {},
   "outputs": [
    {
     "name": "stdout",
     "output_type": "stream",
     "text": [
      "Give your 1st integer value: 20\n",
      "Give your 2nd integer value: 50\n",
      "Give your 3rd integer value: 10\n",
      "The Greatest Integer is 50\n"
     ]
    }
   ],
   "source": [
    "Integer1 = int(input(\"Give your 1st integer value: \"))\n",
    "Integer2 = int(input(\"Give your 2nd integer value: \"))\n",
    "Integer3 = int(input(\"Give your 3rd integer value: \"))\n",
    "if (Integer1>=Integer2) and (Integer1>=Integer3):\n",
    "    print(\"The Greatest Integer is\",Integer1)\n",
    "elif (Integer2>=Integer1) and (Integer2>=Integer3):\n",
    "    print(\"The Greatest Integer is\",Integer2)\n",
    "else:\n",
    "    print(\"The Greatest Integer is\",Integer3)"
   ]
  },
  {
   "cell_type": "markdown",
   "id": "54c20ab2",
   "metadata": {},
   "source": [
    "# 3. A student will not be allowed to sit in an exam if his/her attendance is less than 75%"
   ]
  },
  {
   "cell_type": "code",
   "execution_count": 43,
   "id": "decfd443",
   "metadata": {},
   "outputs": [
    {
     "name": "stdout",
     "output_type": "stream",
     "text": [
      "Total Working day: 90\n",
      "Total attendance: 80\n",
      "Total % of Attendence is: 88  Yes..!! He is Allowed to sit in an exam as his attendance is more than 75\n"
     ]
    }
   ],
   "source": [
    "Working_Day = int(input(\"Total Working day: \"))\n",
    "Attendence = int(input(\"Total attendance: \"))\n",
    "Percentage = int((Attendence*100)/Working_Day)\n",
    "if (Percentage<75):\n",
    "    print(\"Total % of Attendence is:\",Percentage,\" Sorry...!!! He is not allowed to sit in an exam as his attendance is less than 75\")\n",
    "else:\n",
    "    print(\"Total % of Attendence is:\",Percentage,\" Yes..!! He is Allowed to sit in an exam as his attendance is more than 75\")"
   ]
  },
  {
   "cell_type": "markdown",
   "id": "e3eb3cd3",
   "metadata": {},
   "source": [
    "# 4. A school has the following rules for the grading system:\n",
    "   Below 25 – F, 25 to 44 – E, 45 to 49 – D, 50 to 59 – C, 60 to 79 – B, 80 to 89 - A, Above 90 - A+\n",
    "   Now, Ask the user to enter marks and print the corresponding grade."
   ]
  },
  {
   "cell_type": "code",
   "execution_count": 44,
   "id": "9c1c63dc",
   "metadata": {},
   "outputs": [
    {
     "name": "stdout",
     "output_type": "stream",
     "text": [
      "Enter your marks: 50\n",
      "Your marks is 50.0 and grade is C\n"
     ]
    }
   ],
   "source": [
    "marks = float(input(\"Enter your marks: \"))\n",
    "if marks<25:\n",
    "    grade = \"F\"\n",
    "elif marks>=25 and marks<=44:\n",
    "    grade = \"E\"\n",
    "elif marks>=45 and marks<=49:\n",
    "    grade = \"D\"\n",
    "elif marks>=50 and marks<=59:\n",
    "    grade = \"C\"\n",
    "elif marks>=60 and marks<=79:\n",
    "    grade = \"B\"\n",
    "elif marks>=80 and marks<=89:\n",
    "    grade = \"A\"\n",
    "else:\n",
    "    grade = \"A+\"\n",
    "print(f\"Your marks is {marks} and grade is {grade}\")"
   ]
  },
  {
   "cell_type": "markdown",
   "id": "75bfa6ed",
   "metadata": {},
   "source": [
    "# 5. Print the following pattern using for and while loop.\n",
    "1 2 3 4 5 6 7\n",
    "\n",
    "1 2 3 4 5 6\n",
    "\n",
    "1 2 3 4 5\n",
    "\n",
    "1 2 3 4"
   ]
  },
  {
   "cell_type": "code",
   "execution_count": 45,
   "id": "6ff5ace3",
   "metadata": {},
   "outputs": [
    {
     "name": "stdout",
     "output_type": "stream",
     "text": [
      "1 2 3 4 5 6 7 \n",
      "1 2 3 4 5 6 \n",
      "1 2 3 4 5 \n",
      "1 2 3 4 \n"
     ]
    }
   ],
   "source": [
    "#Using For Loop\n",
    "for i in range(7, 3, -1):\n",
    "    for j in range(1, i + 1):\n",
    "        print(j, end=' ') #end=' ' না দিলে নিচে নিচে আসে। এটার ফলে পাশাপাশি স্পেস দিয়ে প্রিন্ট হয়\n",
    "    print()"
   ]
  },
  {
   "cell_type": "code",
   "execution_count": 46,
   "id": "2b23fd4f",
   "metadata": {},
   "outputs": [
    {
     "name": "stdout",
     "output_type": "stream",
     "text": [
      "1 2 3 4 5 6 7 \n",
      "1 2 3 4 5 6 \n",
      "1 2 3 4 5 \n",
      "1 2 3 4 \n"
     ]
    }
   ],
   "source": [
    "#Using While loop\n",
    "i = 7\n",
    "while i >= 4:\n",
    "    j = 1\n",
    "    while j <= i:\n",
    "        print(j, end=' ')\n",
    "        j += 1\n",
    "    print()\n",
    "    i -= 1"
   ]
  },
  {
   "cell_type": "markdown",
   "id": "a4374655",
   "metadata": {},
   "source": [
    "# 6. Display numbers from -100 to -10 using for loop."
   ]
  },
  {
   "cell_type": "code",
   "execution_count": 47,
   "id": "b7290ca5",
   "metadata": {},
   "outputs": [
    {
     "name": "stdout",
     "output_type": "stream",
     "text": [
      "-100\n",
      "-99\n",
      "-98\n",
      "-97\n",
      "-96\n",
      "-95\n",
      "-94\n",
      "-93\n",
      "-92\n",
      "-91\n",
      "-90\n",
      "-89\n",
      "-88\n",
      "-87\n",
      "-86\n",
      "-85\n",
      "-84\n",
      "-83\n",
      "-82\n",
      "-81\n",
      "-80\n",
      "-79\n",
      "-78\n",
      "-77\n",
      "-76\n",
      "-75\n",
      "-74\n",
      "-73\n",
      "-72\n",
      "-71\n",
      "-70\n",
      "-69\n",
      "-68\n",
      "-67\n",
      "-66\n",
      "-65\n",
      "-64\n",
      "-63\n",
      "-62\n",
      "-61\n",
      "-60\n",
      "-59\n",
      "-58\n",
      "-57\n",
      "-56\n",
      "-55\n",
      "-54\n",
      "-53\n",
      "-52\n",
      "-51\n",
      "-50\n",
      "-49\n",
      "-48\n",
      "-47\n",
      "-46\n",
      "-45\n",
      "-44\n",
      "-43\n",
      "-42\n",
      "-41\n",
      "-40\n",
      "-39\n",
      "-38\n",
      "-37\n",
      "-36\n",
      "-35\n",
      "-34\n",
      "-33\n",
      "-32\n",
      "-31\n",
      "-30\n",
      "-29\n",
      "-28\n",
      "-27\n",
      "-26\n",
      "-25\n",
      "-24\n",
      "-23\n",
      "-22\n",
      "-21\n",
      "-20\n",
      "-19\n",
      "-18\n",
      "-17\n",
      "-16\n",
      "-15\n",
      "-14\n",
      "-13\n",
      "-12\n",
      "-11\n",
      "-10\n"
     ]
    }
   ],
   "source": [
    "for number in range(-100,-9,1):\n",
    "    print(number)"
   ]
  },
  {
   "cell_type": "markdown",
   "id": "daffdfdd",
   "metadata": {},
   "source": [
    "# 7. Write a program to sum all prime numbers within a range of 10 to 1000."
   ]
  },
  {
   "cell_type": "code",
   "execution_count": 48,
   "id": "830c6d66",
   "metadata": {},
   "outputs": [
    {
     "name": "stdout",
     "output_type": "stream",
     "text": [
      "Sum of prime numbers between 10 to 1000 is  76110\n"
     ]
    }
   ],
   "source": [
    "def is_prime(num):\n",
    "    if num < 2:\n",
    "        return False\n",
    "    else:\n",
    "        x = num // 2\n",
    "        for i in range(2, x + 1):\n",
    "            if num % i == 0:\n",
    "                return False\n",
    "    return True\n",
    "def sum_range(start, end):\n",
    "    sum = 0\n",
    "    for num in range(start, end + 1):\n",
    "        if is_prime(num):\n",
    "            sum = sum + num\n",
    "    return sum\n",
    "result = sum_range(10, 1000)\n",
    "print(\"Sum of prime numbers between 10 to 1000 is \", result)"
   ]
  },
  {
   "cell_type": "markdown",
   "id": "b31cf8da",
   "metadata": {},
   "source": [
    "# যদি user কে input দিতে বলা হয় "
   ]
  },
  {
   "cell_type": "code",
   "execution_count": 49,
   "id": "3c4bc6e1",
   "metadata": {},
   "outputs": [
    {
     "name": "stdout",
     "output_type": "stream",
     "text": [
      "Start Number:১০\n",
      "End Number:১০০\n",
      "Sum of prime numbers between 10 and 100 is: 1043\n"
     ]
    }
   ],
   "source": [
    "def is_prime(num):\n",
    "    if num < 2:\n",
    "        return 0\n",
    "    else:\n",
    "        x = num // 2\n",
    "        for i in range(2, x + 1):\n",
    "            if num % i == 0:\n",
    "                return 0\n",
    "    return True\n",
    "def sum_range(start, end):\n",
    "    sum = 0\n",
    "    for num in range(start, end + 1):\n",
    "        if is_prime(num):\n",
    "            sum = sum + num\n",
    "    return sum\n",
    "start = int(input(\"Start Number:\" ))\n",
    "end = int(input(\"End Number:\" ))\n",
    "result = sum_range(start, end)\n",
    "print(\"Sum of prime numbers between\", start, \"and\", end, \"is:\", result)"
   ]
  },
  {
   "cell_type": "markdown",
   "id": "1ea2a7a7",
   "metadata": {},
   "source": [
    "# 8. Find the factorial of an n!"
   ]
  },
  {
   "cell_type": "code",
   "execution_count": 50,
   "id": "f91542c0",
   "metadata": {},
   "outputs": [
    {
     "name": "stdout",
     "output_type": "stream",
     "text": [
      "Number: 10\n",
      "The factorial of 10 i.e., 10! is 3628800\n"
     ]
    }
   ],
   "source": [
    "n = int(input(\"Number: \" ))\n",
    "def factorial(n):\n",
    "    if n == 0:\n",
    "        return 1\n",
    "    else:\n",
    "        return n * factorial(n - 1)\n",
    "print(f\"The factorial of {n} i.e., {n}! is {factorial(n)}\")"
   ]
  },
  {
   "cell_type": "markdown",
   "id": "57bf9e95",
   "metadata": {},
   "source": [
    "# 9. Reverse a given integer number 27956240710"
   ]
  },
  {
   "cell_type": "code",
   "execution_count": 51,
   "id": "8435a0b6",
   "metadata": {},
   "outputs": [
    {
     "name": "stdout",
     "output_type": "stream",
     "text": [
      "1704265972\n"
     ]
    }
   ],
   "source": [
    "n = 27956240710\n",
    "rev = 0\n",
    "while(n > 0):\n",
    "    a = n % 10\n",
    "    rev = rev * 10 + a\n",
    "    n = n // 10\n",
    " \n",
    "print(rev)\n",
    "\n",
    "#ব্যাখ্যা:\n",
    "# ধরি, ২৩৫ কে Reverse করতে চাচ্ছি, তাহলে ১মে Reverse number 0 থাকবে\n",
    "#এবার Reverse num = reverse num * ১০ + ২৩৫ % ১০ =০ + ৫= ৫\n",
    "#এবার new Number = ২৩৫ // ১০ = ২৩\n",
    " #Reverse number = Reverse Num *১০ + ২৩ % ১০ = ৫*১০+৩ =৫০+৩ =৫৩\n",
    "#একইভাবে new Number = ২৩ // ১০ = ২\n",
    "#Reverse number = Reverse Num *১০ + ২ % ১০ = ৫৩*১০+২ =৫৩০+২ =৫৩২"
   ]
  },
  {
   "cell_type": "markdown",
   "id": "a11c7ea2",
   "metadata": {},
   "source": [
    "# 10. Print the following pattern using while loop.\n",
    "               # # #\n",
    "              # # # #\n",
    "             # # #\n",
    "             # #"
   ]
  },
  {
   "cell_type": "code",
   "execution_count": 52,
   "id": "bc3c3c3d",
   "metadata": {},
   "outputs": [
    {
     "name": "stdout",
     "output_type": "stream",
     "text": [
      "# # # \n",
      "# # # # \n",
      "# # # \n",
      "# # \n"
     ]
    }
   ],
   "source": [
    "i=1\n",
    "while i<=4:\n",
    "    if i % 2 !=0:\n",
    "        num = int((3 * i) / i)\n",
    "        print('# ' * num)\n",
    "    else:\n",
    "        num = int((i+2)/(i-1))\n",
    "        print('# ' * num)\n",
    "    i=i+1"
   ]
  },
  {
   "cell_type": "markdown",
   "id": "e51a83bf",
   "metadata": {},
   "source": [
    "using For loop."
   ]
  },
  {
   "cell_type": "code",
   "execution_count": 53,
   "id": "b7a902c7",
   "metadata": {},
   "outputs": [
    {
     "name": "stdout",
     "output_type": "stream",
     "text": [
      "# # # \n",
      "# # # # \n",
      "# # # \n",
      "# # \n"
     ]
    }
   ],
   "source": [
    "for i in range(1,5):\n",
    "    if i % 2 !=0:\n",
    "        num = int((3 * i) / i)\n",
    "        print('# ' * num)\n",
    "    else:\n",
    "        num = int((i+2)/(i-1))\n",
    "        print('# ' * num)"
   ]
  },
  {
   "cell_type": "markdown",
   "id": "d5f4d4f0",
   "metadata": {},
   "source": [
    "# 11. Display the Fibonacci series of 15 elements using the for and while loop."
   ]
  },
  {
   "cell_type": "code",
   "execution_count": 54,
   "id": "6302b10d",
   "metadata": {},
   "outputs": [
    {
     "name": "stdout",
     "output_type": "stream",
     "text": [
      "0\n",
      "1\n",
      "1\n",
      "2\n",
      "3\n",
      "5\n",
      "8\n",
      "13\n",
      "21\n",
      "34\n",
      "55\n",
      "89\n",
      "144\n",
      "233\n",
      "377\n"
     ]
    }
   ],
   "source": [
    "#Using While loop\n",
    "n1, n2 = 0, 1\n",
    "i =0\n",
    "while i<15:\n",
    "    print(n1)\n",
    "    sum = n1+n2\n",
    "    n1 = n2\n",
    "    n2 =sum\n",
    "    i = i+1"
   ]
  },
  {
   "cell_type": "code",
   "execution_count": 55,
   "id": "03cba365",
   "metadata": {},
   "outputs": [
    {
     "name": "stdout",
     "output_type": "stream",
     "text": [
      "0\n",
      "1\n",
      "1\n",
      "2\n",
      "3\n",
      "5\n",
      "8\n",
      "13\n",
      "21\n",
      "34\n",
      "55\n",
      "89\n",
      "144\n",
      "233\n",
      "377\n"
     ]
    }
   ],
   "source": [
    "#Using For Loop\n",
    "n1, n2 = 0, 1\n",
    "for i in range(0,15):\n",
    "    print(n1)\n",
    "    sum = n1+n2\n",
    "    n1 = n2\n",
    "    n2 =sum"
   ]
  },
  {
   "cell_type": "markdown",
   "id": "8bdf3355",
   "metadata": {},
   "source": [
    "# 12. Remove 2 and add 3 to the list and replace True with False.\n",
    "           Li = [1,3,5, [2,3], True]"
   ]
  },
  {
   "cell_type": "code",
   "execution_count": 56,
   "id": "35f6ccb1",
   "metadata": {},
   "outputs": [
    {
     "name": "stdout",
     "output_type": "stream",
     "text": [
      "[1, 3, 5, [3, 3], False]\n"
     ]
    }
   ],
   "source": [
    "Li = [1,3,5, [2,3], True]\n",
    "Li[3][0]=3\n",
    "Li[4]=False\n",
    "print(Li)"
   ]
  },
  {
   "cell_type": "markdown",
   "id": "e24910fb",
   "metadata": {},
   "source": [
    "# 13. Find the intersection (common) of two sets.\n",
    "S1 = {1,4,6,8},   \n",
    "S2 = {True, 1,2,10}"
   ]
  },
  {
   "cell_type": "code",
   "execution_count": 57,
   "id": "f2d8ae45",
   "metadata": {},
   "outputs": [
    {
     "name": "stdout",
     "output_type": "stream",
     "text": [
      "{True, 2, 10}\n",
      "{True}\n"
     ]
    }
   ],
   "source": [
    "S1 = {1,4,6,8}\n",
    "S2 = {True, 1,2,10}\n",
    "print(S2)\n",
    "m = S1.intersection(S2)\n",
    "print(m)"
   ]
  },
  {
   "cell_type": "markdown",
   "id": "49e74ffb",
   "metadata": {},
   "source": [
    "# 14. Input a list from the user then Remove duplicates from a list and create a set and find the max number. \n",
    "User_input = [1,9,3,4,5,200,54]"
   ]
  },
  {
   "cell_type": "code",
   "execution_count": 58,
   "id": "20d5b9cb",
   "metadata": {},
   "outputs": [
    {
     "name": "stdout",
     "output_type": "stream",
     "text": [
      "[1, 3, 4, 5, 200, 9, 54]\n",
      "{1, 3, 4, 5, 200, 9, 54}\n"
     ]
    },
    {
     "data": {
      "text/plain": [
       "200"
      ]
     },
     "execution_count": 58,
     "metadata": {},
     "output_type": "execute_result"
    }
   ],
   "source": [
    "User_input = [1,9,3,4,5,200,54]\n",
    "\n",
    "#To Remove duplicates from a list\n",
    "Li1 = list(set(User_input))\n",
    "print(Li1)\n",
    "\n",
    "#create a set\n",
    "Set1 = set(Li1)\n",
    "print(Set1)\n",
    "\n",
    "#find the max number from set\n",
    "#print(max(Set1))\n",
    "max(Set1)"
   ]
  },
  {
   "cell_type": "markdown",
   "id": "d5ddb0be",
   "metadata": {},
   "source": [
    "# 15. Write a program to rename a key ‘country’ to a ‘region’ in the following dictionary.\n",
    "Dict = {\"name\": \"Shakil\", \"age\":27, \"city\": \"Berlin\", \"country\": \"Germany\"}"
   ]
  },
  {
   "cell_type": "code",
   "execution_count": 59,
   "id": "57cc9ebb",
   "metadata": {},
   "outputs": [
    {
     "data": {
      "text/plain": [
       "{'name': 'Shakil', 'age': 27, 'city': 'Berlin', 'region': 'Germany'}"
      ]
     },
     "execution_count": 59,
     "metadata": {},
     "output_type": "execute_result"
    }
   ],
   "source": [
    "Dict = {\"name\": \"Shakil\", \"age\":27, \"city\": \"Berlin\", \"country\": \"Germany\"}\n",
    "Dict[\"region\"]=Dict.pop(\"country\")\n",
    "Dict"
   ]
  },
  {
   "cell_type": "code",
   "execution_count": 10,
   "id": "eccc20cc",
   "metadata": {},
   "outputs": [
    {
     "name": "stdout",
     "output_type": "stream",
     "text": [
      "Defaulting to user installation because normal site-packages is not writeable\n",
      "Requirement already satisfied: pandas in c:\\programdata\\anaconda3\\lib\\site-packages (1.5.3)\n",
      "Requirement already satisfied: python-dateutil>=2.8.1 in c:\\programdata\\anaconda3\\lib\\site-packages (from pandas) (2.8.2)\n",
      "Requirement already satisfied: pytz>=2020.1 in c:\\programdata\\anaconda3\\lib\\site-packages (from pandas) (2022.7)\n",
      "Requirement already satisfied: numpy>=1.21.0 in c:\\programdata\\anaconda3\\lib\\site-packages (from pandas) (1.24.3)\n",
      "Requirement already satisfied: six>=1.5 in c:\\programdata\\anaconda3\\lib\\site-packages (from python-dateutil>=2.8.1->pandas) (1.16.0)\n"
     ]
    }
   ],
   "source": [
    "!pip install pandas"
   ]
  },
  {
   "cell_type": "markdown",
   "id": "77e55463",
   "metadata": {},
   "source": [
    "# 16. Creating a data frame using the list.\n",
    "num = [10,100,300] (column name is number)"
   ]
  },
  {
   "cell_type": "code",
   "execution_count": 60,
   "id": "47c16859",
   "metadata": {},
   "outputs": [
    {
     "data": {
      "text/html": [
       "<div>\n",
       "<style scoped>\n",
       "    .dataframe tbody tr th:only-of-type {\n",
       "        vertical-align: middle;\n",
       "    }\n",
       "\n",
       "    .dataframe tbody tr th {\n",
       "        vertical-align: top;\n",
       "    }\n",
       "\n",
       "    .dataframe thead th {\n",
       "        text-align: right;\n",
       "    }\n",
       "</style>\n",
       "<table border=\"1\" class=\"dataframe\">\n",
       "  <thead>\n",
       "    <tr style=\"text-align: right;\">\n",
       "      <th></th>\n",
       "      <th>number</th>\n",
       "    </tr>\n",
       "  </thead>\n",
       "  <tbody>\n",
       "    <tr>\n",
       "      <th>0</th>\n",
       "      <td>10</td>\n",
       "    </tr>\n",
       "    <tr>\n",
       "      <th>1</th>\n",
       "      <td>100</td>\n",
       "    </tr>\n",
       "    <tr>\n",
       "      <th>2</th>\n",
       "      <td>300</td>\n",
       "    </tr>\n",
       "  </tbody>\n",
       "</table>\n",
       "</div>"
      ],
      "text/plain": [
       "   number\n",
       "0      10\n",
       "1     100\n",
       "2     300"
      ]
     },
     "execution_count": 60,
     "metadata": {},
     "output_type": "execute_result"
    }
   ],
   "source": [
    "import pandas as pd\n",
    "\n",
    "num = [10, 100, 300]\n",
    "df = pd.DataFrame({'number': num})\n",
    "\n",
    "df"
   ]
  },
  {
   "cell_type": "markdown",
   "id": "603c6ee4",
   "metadata": {},
   "source": [
    "# 17. Write a Python program to change ‘age’ to 28 in the following dictionary.\n",
    "Dict = { \"name\": \"Shakil\", \"age\":27, \"city\": “Berlin”, \"country\": \"Germany\" }"
   ]
  },
  {
   "cell_type": "code",
   "execution_count": 61,
   "id": "d8fd0a1f",
   "metadata": {},
   "outputs": [
    {
     "data": {
      "text/plain": [
       "{'name': 'Shakil', 'age': 28, 'city': 'Berlin', 'region': 'Germany'}"
      ]
     },
     "execution_count": 61,
     "metadata": {},
     "output_type": "execute_result"
    }
   ],
   "source": [
    "Dict.update({\"age\":28})\n",
    "Dict"
   ]
  },
  {
   "cell_type": "markdown",
   "id": "656b79e7",
   "metadata": {},
   "source": [
    "Submited by Mohammad Sohel Hossain"
   ]
  }
 ],
 "metadata": {
  "kernelspec": {
   "display_name": "Python 3 (ipykernel)",
   "language": "python",
   "name": "python3"
  },
  "language_info": {
   "codemirror_mode": {
    "name": "ipython",
    "version": 3
   },
   "file_extension": ".py",
   "mimetype": "text/x-python",
   "name": "python",
   "nbconvert_exporter": "python",
   "pygments_lexer": "ipython3",
   "version": "3.11.3"
  }
 },
 "nbformat": 4,
 "nbformat_minor": 5
}
